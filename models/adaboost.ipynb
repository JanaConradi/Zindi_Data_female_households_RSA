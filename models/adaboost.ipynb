{
 "cells": [
  {
   "cell_type": "markdown",
   "metadata": {},
   "source": [
    "# Prediction of female-headed households in RSA using AdaBoost"
   ]
  },
  {
   "cell_type": "code",
   "execution_count": 49,
   "metadata": {},
   "outputs": [],
   "source": [
    "# import libraries\n",
    "import pandas as pd\n",
    "import numpy as np\n",
    "\n",
    "from matplotlib import pyplot as plt\n",
    "import seaborn as sns\n",
    "%matplotlib inline\n",
    "\n",
    "from sklearn.model_selection import train_test_split\n",
    "from sklearn.ensemble import AdaBoostRegressor\n",
    "from sklearn.metrics import r2_score, mean_squared_error\n",
    "from sklearn.model_selection import GridSearchCV\n",
    "\n",
    "RSEED = 42"
   ]
  },
  {
   "cell_type": "code",
   "execution_count": 2,
   "metadata": {},
   "outputs": [],
   "source": [
    "# import data\n",
    "df = pd.read_csv(\"Train.csv\")"
   ]
  },
  {
   "cell_type": "code",
   "execution_count": 4,
   "metadata": {},
   "outputs": [],
   "source": [
    "#define X and y values\n",
    "X = df.drop(['target', 'ward', 'ADM4_PCODE'], axis=1)\n",
    "y = df[\"target\"]"
   ]
  },
  {
   "cell_type": "code",
   "execution_count": 8,
   "metadata": {},
   "outputs": [],
   "source": [
    "#train_test_split\n",
    "X_train, X_test, y_train, y_test = train_test_split(X, y, test_size=0.3, random_state=RSEED)"
   ]
  },
  {
   "cell_type": "markdown",
   "metadata": {},
   "source": [
    "## AdaBoost with all features"
   ]
  },
  {
   "cell_type": "code",
   "execution_count": 15,
   "metadata": {},
   "outputs": [],
   "source": [
    "# train adaboost regressor\n",
    "ada = AdaBoostRegressor(random_state=0, n_estimators=100)\n",
    "ada.fit(X, y)\n",
    "\n",
    "ada.fit(X_train, y_train)\n",
    "\n",
    "y_pred = ada.predict(X_test)"
   ]
  },
  {
   "cell_type": "code",
   "execution_count": 18,
   "metadata": {},
   "outputs": [
    {
     "name": "stdout",
     "output_type": "stream",
     "text": [
      "RMSE: 3.997026325820866\n",
      "R2: 0.8403074387576908\n"
     ]
    }
   ],
   "source": [
    "#evaluation metrics\n",
    "print(f\"RMSE: {mean_squared_error(y_test, y_pred, squared=False)}\")\n",
    "print(f\"R2: {r2_score(y_test, y_pred)}\")\n"
   ]
  },
  {
   "cell_type": "code",
   "execution_count": null,
   "metadata": {},
   "outputs": [],
   "source": [
    "# plot residuals\n",
    "residuals = y_test - y_pred"
   ]
  },
  {
   "cell_type": "markdown",
   "metadata": {},
   "source": [
    "## AdaBoost with selected features\n",
    "\n",
    "selected features derive from the feature importance in a random forest model"
   ]
  },
  {
   "cell_type": "code",
   "execution_count": 30,
   "metadata": {},
   "outputs": [
    {
     "data": {
      "text/plain": [
       "['pw_00',\n",
       " 'psa_01',\n",
       " 'car_00',\n",
       " 'stv_00',\n",
       " 'lln_00',\n",
       " 'pg_03',\n",
       " 'NL',\n",
       " 'lan_00',\n",
       " 'pg_00',\n",
       " 'lln_01',\n",
       " 'stv_01',\n",
       " 'car_01',\n",
       " 'psa_00']"
      ]
     },
     "execution_count": 30,
     "metadata": {},
     "output_type": "execute_result"
    }
   ],
   "source": [
    "# correlation\n",
    "corr = df.corr()\n",
    "corr_list = corr[abs(corr[\"target\"]) > 0.5]\n",
    "corr_list = corr_list.sort_values(\"target\").index.values.tolist()\n",
    "corr_list.remove(\"target\")\n",
    "corr_list"
   ]
  },
  {
   "cell_type": "code",
   "execution_count": 38,
   "metadata": {},
   "outputs": [
    {
     "data": {
      "text/html": [
       "<div>\n",
       "<style scoped>\n",
       "    .dataframe tbody tr th:only-of-type {\n",
       "        vertical-align: middle;\n",
       "    }\n",
       "\n",
       "    .dataframe tbody tr th {\n",
       "        vertical-align: top;\n",
       "    }\n",
       "\n",
       "    .dataframe thead th {\n",
       "        text-align: right;\n",
       "    }\n",
       "</style>\n",
       "<table border=\"1\" class=\"dataframe\">\n",
       "  <thead>\n",
       "    <tr style=\"text-align: right;\">\n",
       "      <th></th>\n",
       "      <th>psa_00</th>\n",
       "      <th>car_01</th>\n",
       "      <th>pw_00</th>\n",
       "      <th>lln_01</th>\n",
       "      <th>pg_00</th>\n",
       "      <th>dw_10</th>\n",
       "    </tr>\n",
       "  </thead>\n",
       "  <tbody>\n",
       "    <tr>\n",
       "      <th>0</th>\n",
       "      <td>0.260191</td>\n",
       "      <td>0.726273</td>\n",
       "      <td>0.742692</td>\n",
       "      <td>0.881175</td>\n",
       "      <td>0.357455</td>\n",
       "      <td>0.001431</td>\n",
       "    </tr>\n",
       "    <tr>\n",
       "      <th>1</th>\n",
       "      <td>0.290228</td>\n",
       "      <td>0.855362</td>\n",
       "      <td>0.309294</td>\n",
       "      <td>0.933097</td>\n",
       "      <td>0.698428</td>\n",
       "      <td>0.001253</td>\n",
       "    </tr>\n",
       "    <tr>\n",
       "      <th>2</th>\n",
       "      <td>0.186435</td>\n",
       "      <td>0.727780</td>\n",
       "      <td>0.323393</td>\n",
       "      <td>0.899991</td>\n",
       "      <td>0.672452</td>\n",
       "      <td>0.000000</td>\n",
       "    </tr>\n",
       "    <tr>\n",
       "      <th>3</th>\n",
       "      <td>0.281229</td>\n",
       "      <td>0.872125</td>\n",
       "      <td>0.677437</td>\n",
       "      <td>0.970845</td>\n",
       "      <td>0.728014</td>\n",
       "      <td>0.000000</td>\n",
       "    </tr>\n",
       "    <tr>\n",
       "      <th>4</th>\n",
       "      <td>0.196687</td>\n",
       "      <td>0.595493</td>\n",
       "      <td>0.771106</td>\n",
       "      <td>0.866448</td>\n",
       "      <td>0.753491</td>\n",
       "      <td>0.000000</td>\n",
       "    </tr>\n",
       "    <tr>\n",
       "      <th>...</th>\n",
       "      <td>...</td>\n",
       "      <td>...</td>\n",
       "      <td>...</td>\n",
       "      <td>...</td>\n",
       "      <td>...</td>\n",
       "      <td>...</td>\n",
       "    </tr>\n",
       "    <tr>\n",
       "      <th>2817</th>\n",
       "      <td>0.249796</td>\n",
       "      <td>0.204324</td>\n",
       "      <td>0.918325</td>\n",
       "      <td>0.802892</td>\n",
       "      <td>0.387404</td>\n",
       "      <td>0.003680</td>\n",
       "    </tr>\n",
       "    <tr>\n",
       "      <th>2818</th>\n",
       "      <td>0.243611</td>\n",
       "      <td>0.706102</td>\n",
       "      <td>0.426518</td>\n",
       "      <td>0.929214</td>\n",
       "      <td>0.619593</td>\n",
       "      <td>0.003154</td>\n",
       "    </tr>\n",
       "    <tr>\n",
       "      <th>2819</th>\n",
       "      <td>0.253504</td>\n",
       "      <td>0.602848</td>\n",
       "      <td>0.619392</td>\n",
       "      <td>0.906225</td>\n",
       "      <td>0.551808</td>\n",
       "      <td>0.000000</td>\n",
       "    </tr>\n",
       "    <tr>\n",
       "      <th>2820</th>\n",
       "      <td>0.272915</td>\n",
       "      <td>0.721146</td>\n",
       "      <td>0.567853</td>\n",
       "      <td>0.893250</td>\n",
       "      <td>0.366426</td>\n",
       "      <td>0.014031</td>\n",
       "    </tr>\n",
       "    <tr>\n",
       "      <th>2821</th>\n",
       "      <td>0.164530</td>\n",
       "      <td>0.829704</td>\n",
       "      <td>0.316055</td>\n",
       "      <td>0.979367</td>\n",
       "      <td>0.903506</td>\n",
       "      <td>0.007919</td>\n",
       "    </tr>\n",
       "  </tbody>\n",
       "</table>\n",
       "<p>2822 rows × 6 columns</p>\n",
       "</div>"
      ],
      "text/plain": [
       "        psa_00    car_01     pw_00    lln_01     pg_00     dw_10\n",
       "0     0.260191  0.726273  0.742692  0.881175  0.357455  0.001431\n",
       "1     0.290228  0.855362  0.309294  0.933097  0.698428  0.001253\n",
       "2     0.186435  0.727780  0.323393  0.899991  0.672452  0.000000\n",
       "3     0.281229  0.872125  0.677437  0.970845  0.728014  0.000000\n",
       "4     0.196687  0.595493  0.771106  0.866448  0.753491  0.000000\n",
       "...        ...       ...       ...       ...       ...       ...\n",
       "2817  0.249796  0.204324  0.918325  0.802892  0.387404  0.003680\n",
       "2818  0.243611  0.706102  0.426518  0.929214  0.619593  0.003154\n",
       "2819  0.253504  0.602848  0.619392  0.906225  0.551808  0.000000\n",
       "2820  0.272915  0.721146  0.567853  0.893250  0.366426  0.014031\n",
       "2821  0.164530  0.829704  0.316055  0.979367  0.903506  0.007919\n",
       "\n",
       "[2822 rows x 6 columns]"
      ]
     },
     "execution_count": 38,
     "metadata": {},
     "output_type": "execute_result"
    }
   ],
   "source": [
    "#define X (with selected values) and y values\n",
    "X = df[[\"psa_00\", \"car_01\", \"pw_00\", \"lln_01\",\"pg_00\",\"dw_10\"]]\n",
    "#X = df[corr_list]\n",
    "y = df[\"target\"]\n",
    "X"
   ]
  },
  {
   "cell_type": "code",
   "execution_count": 39,
   "metadata": {},
   "outputs": [],
   "source": [
    "#train_test_split\n",
    "X_train, X_test, y_train, y_test = train_test_split(X, y, test_size=0.3, random_state=RSEED)"
   ]
  },
  {
   "cell_type": "code",
   "execution_count": 86,
   "metadata": {},
   "outputs": [],
   "source": [
    "# train adaboost regressor\n",
    "ada = AdaBoostRegressor(random_state=RSEED, n_estimators=200, learning_rate=0.1, loss=\"exponential\")\n",
    "ada.fit(X, y)\n",
    "\n",
    "ada.fit(X_train, y_train)\n",
    "\n",
    "y_pred = ada.predict(X_test)"
   ]
  },
  {
   "cell_type": "code",
   "execution_count": 87,
   "metadata": {},
   "outputs": [
    {
     "name": "stdout",
     "output_type": "stream",
     "text": [
      "RMSE: 4.163344618051485\n",
      "R2: 0.8267411646793033\n"
     ]
    }
   ],
   "source": [
    "#evaluation metrics\n",
    "print(f\"RMSE: {mean_squared_error(y_test, y_pred, squared=False)}\")\n",
    "print(f\"R2: {r2_score(y_test, y_pred)}\")"
   ]
  },
  {
   "cell_type": "code",
   "execution_count": 88,
   "metadata": {},
   "outputs": [
    {
     "name": "stderr",
     "output_type": "stream",
     "text": [
      "/Users/janaconradi/neuefische/Zindi_Data_female_households_RSA/.venv/lib/python3.9/site-packages/seaborn/_decorators.py:36: FutureWarning: Pass the following variables as keyword args: x, y. From version 0.12, the only valid positional argument will be `data`, and passing other arguments without an explicit keyword will result in an error or misinterpretation.\n",
      "  warnings.warn(\n"
     ]
    },
    {
     "data": {
      "text/plain": [
       "<AxesSubplot:xlabel='target', ylabel='target'>"
      ]
     },
     "execution_count": 88,
     "metadata": {},
     "output_type": "execute_result"
    },
    {
     "data": {
      "image/png": "[encoded data removed]",
      "text/plain": [
       "<Figure size 432x288 with 1 Axes>"
      ]
     },
     "metadata": {
      "needs_background": "light"
     },
     "output_type": "display_data"
    }
   ],
   "source": [
    "residuals = y_test - y_pred\n",
    "sns.scatterplot(y_test, residuals)"
   ]
  },
  {
   "cell_type": "markdown",
   "metadata": {},
   "source": [
    "## Gridsearch for best hyperparameters"
   ]
  },
  {
   "cell_type": "code",
   "execution_count": 62,
   "metadata": {},
   "outputs": [
    {
     "data": {
      "text/plain": [
       "dict_keys(['base_estimator', 'learning_rate', 'loss', 'n_estimators', 'random_state'])"
      ]
     },
     "execution_count": 62,
     "metadata": {},
     "output_type": "execute_result"
    }
   ],
   "source": [
    "ada.get_params().keys()"
   ]
  },
  {
   "cell_type": "markdown",
   "metadata": {},
   "source": [
    "'n_estimators': np.arange(100, 1000, 10)"
   ]
  },
  {
   "cell_type": "code",
   "execution_count": 84,
   "metadata": {},
   "outputs": [
    {
     "data": {
      "text/plain": [
       "GridSearchCV(cv=5, estimator=AdaBoostRegressor(random_state=42), n_jobs=-1,\n",
       "             param_grid={'learning_rate': [0.01, 0.1, 1.0],\n",
       "                         'loss': ['linear', 'square', 'exponential'],\n",
       "                         'n_estimators': array([100, 200, 300, 400, 500, 600, 700, 800, 900])},\n",
       "             scoring='r2')"
      ]
     },
     "execution_count": 84,
     "metadata": {},
     "output_type": "execute_result"
    }
   ],
   "source": [
    "# Defining parameter grid (as dictionary)\n",
    "param_grid = {'n_estimators': np.arange(100, 1000, 100),\n",
    " 'learning_rate': [0.01, 0.1, 1.0],\n",
    " 'loss': ['linear', 'square', 'exponential'],\n",
    "}\n",
    "\n",
    "# Instantiate gridsearch and define the metric to optimize \n",
    "gs = GridSearchCV(AdaBoostRegressor(random_state=RSEED), param_grid, scoring='r2',\n",
    "                  cv=5, n_jobs=-1)\n",
    "\n",
    "# Fit gridsearch object to data\n",
    "gs.fit(X_train, y_train)"
   ]
  },
  {
   "cell_type": "code",
   "execution_count": 85,
   "metadata": {},
   "outputs": [
    {
     "data": {
      "text/plain": [
       "{'learning_rate': 0.1, 'loss': 'exponential', 'n_estimators': 200}"
      ]
     },
     "execution_count": 85,
     "metadata": {},
     "output_type": "execute_result"
    }
   ],
   "source": [
    "gs.best_params_"
   ]
  },
  {
   "cell_type": "code",
   "execution_count": null,
   "metadata": {},
   "outputs": [],
   "source": []
  }
 ],
 "metadata": {
  "interpreter": {
   "hash": "3a4186c5bac020f8944d6941ec681f12ae605ca4515fa6285811bd64917683c1"
  },
  "kernelspec": {
   "display_name": "Python 3.9.4 64-bit ('.venv': venv)",
   "name": "python3"
  },
  "language_info": {
   "codemirror_mode": {
    "name": "ipython",
    "version": 3
   },
   "file_extension": ".py",
   "mimetype": "text/x-python",
   "name": "python",
   "nbconvert_exporter": "python",
   "pygments_lexer": "ipython3",
   "version": "3.9.4"
  },
  "orig_nbformat": 4
 },
 "nbformat": 4,
 "nbformat_minor": 2
}
